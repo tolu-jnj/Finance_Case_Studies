{
 "cells": [
  {
   "cell_type": "markdown",
   "id": "3771b59c",
   "metadata": {},
   "source": [
    "# EDA - Case 1A Monthly Forecast\n",
    "\n",
    "This notebook contains exploratory analysis templates for the monthly forecasting case study."
   ]
  },
  {
   "cell_type": "code",
   "execution_count": null,
   "id": "2fcafeb8",
   "metadata": {},
   "outputs": [],
   "source": [
    "import pandas as pd\n",
    "import matplotlib.pyplot as plt\n",
    "\n",
    "# Load data sample\n",
    "# df = pd.read_csv('../data/raw/sample.csv')\n",
    "# df.head()"
   ]
  }
 ],
 "metadata": {
  "language_info": {
   "name": "python"
  }
 },
 "nbformat": 4,
 "nbformat_minor": 5
}
